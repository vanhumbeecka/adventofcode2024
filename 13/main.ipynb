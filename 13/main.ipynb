{
 "cells": [
  {
   "cell_type": "code",
   "execution_count": null,
   "metadata": {},
   "outputs": [],
   "source": [
    "\n",
    "machines = []\n",
    "new_machine = None\n",
    "with open('input.txt') as f:\n",
    "    lines = [line.strip() for line in f]\n",
    "\n",
    "for line in lines:\n",
    "    if line == '':\n",
    "        if new_machine is not None:\n",
    "            machines.append(new_machine)\n",
    "        new_machine = None\n",
    "    elif new_machine is None:\n",
    "        new_machine = {}\n",
    "\n",
    "    if line.startswith('Button A'):\n",
    "        # 'Button A: X+94, Y+34'\n",
    "        x, y = line.split(': ')[1].split(', ')\n",
    "        new_machine['a'] = (int(x[2:]), int(y[2:]))\n",
    "    elif line.startswith('Button B'):\n",
    "        x, y = line.split(': ')[1].split(', ')\n",
    "        new_machine['b'] = (int(x[2:]), int(y[2:]))\n",
    "    elif line.startswith('Prize'):\n",
    "        # 'Prize: X=12748, Y=12176'\n",
    "        x, y = line.split(': ')[1].split(', ')\n",
    "        new_machine['prize'] = (int(x[2:]), int(y[2:]))\n",
    "    \n"
   ]
  },
  {
   "cell_type": "code",
   "execution_count": 44,
   "metadata": {},
   "outputs": [
    {
     "data": {
      "text/plain": [
       "[{'a': (94, 34), 'b': (22, 67), 'prize': (8400, 5400)},\n",
       " {'a': (26, 66), 'b': (67, 21), 'prize': (12748, 12176)},\n",
       " {'a': (17, 86), 'b': (84, 37), 'prize': (7870, 6450)},\n",
       " {'a': (69, 23), 'b': (27, 71), 'prize': (18641, 10279)}]"
      ]
     },
     "execution_count": 44,
     "metadata": {},
     "output_type": "execute_result"
    }
   ],
   "source": [
    "machines"
   ]
  },
  {
   "cell_type": "code",
   "execution_count": null,
   "metadata": {},
   "outputs": [
    {
     "name": "stdout",
     "output_type": "stream",
     "text": [
      "(80, 40)\n"
     ]
    }
   ],
   "source": [
    "def is_found(machine, i, j) -> bool:\n",
    "    x = i * machine['a'][0] + j * machine['b'][0]\n",
    "    y = i * machine['a'][1] + j * machine['b'][1]\n",
    "    return (x, y) == machine['prize']\n",
    "\n",
    "def is_out_of_bounds(machine, i, j) -> bool:\n",
    "    x = i * machine['a'][0] + j * machine['b'][0]\n",
    "    y = i * machine['a'][1] + j * machine['b'][1]\n",
    "    return x > machine['prize'][0] or y > machine['prize'][1]\n",
    "\n",
    "def solve_machine(machine):\n",
    "    for i in range(101):\n",
    "        for j in range(101):\n",
    "            if is_found(machine, i, j):\n",
    "                return i, j\n",
    "            if is_out_of_bounds(machine, i, j):\n",
    "                break\n",
    "    return None\n",
    "        \n",
    "c = solve_machine(machines[0])\n",
    "print(c)"
   ]
  },
  {
   "cell_type": "code",
   "execution_count": 64,
   "metadata": {},
   "outputs": [
    {
     "data": {
      "text/plain": [
       "480"
      ]
     },
     "execution_count": 64,
     "metadata": {},
     "output_type": "execute_result"
    }
   ],
   "source": [
    "tokens = 0\n",
    "for machine in machines:\n",
    "    c = solve_machine(machine)\n",
    "    if c is not None:\n",
    "        tokens += c[0]*3 + c[1]\n",
    "\n",
    "tokens    \n",
    "    "
   ]
  }
 ],
 "metadata": {
  "kernelspec": {
   "display_name": "kul",
   "language": "python",
   "name": "python3"
  },
  "language_info": {
   "codemirror_mode": {
    "name": "ipython",
    "version": 3
   },
   "file_extension": ".py",
   "mimetype": "text/x-python",
   "name": "python",
   "nbconvert_exporter": "python",
   "pygments_lexer": "ipython3",
   "version": "3.10.8"
  }
 },
 "nbformat": 4,
 "nbformat_minor": 2
}
