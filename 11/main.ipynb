{
 "cells": [
  {
   "cell_type": "code",
   "execution_count": 2,
   "metadata": {},
   "outputs": [],
   "source": [
    "import time"
   ]
  },
  {
   "cell_type": "code",
   "execution_count": 81,
   "metadata": {},
   "outputs": [
    {
     "data": {
      "text/plain": [
       "[8069, 87014, 98, 809367, 525, 0, 9494914, 5]"
      ]
     },
     "execution_count": 81,
     "metadata": {},
     "output_type": "execute_result"
    }
   ],
   "source": [
    "with open(\"input.txt\") as f:\n",
    "    stones = [int(x) for x in f.readline().split()]\n",
    "\n",
    "stones"
   ]
  },
  {
   "cell_type": "code",
   "execution_count": 32,
   "metadata": {},
   "outputs": [],
   "source": [
    "def rule(stone: int) -> int | tuple[int, int]:\n",
    "    if stone == 0:\n",
    "        return 1\n",
    "    s = str(stone)\n",
    "    if len(s) % 2 == 0:\n",
    "        return int(s[0: len(s) // 2]) , int(s[len(s) // 2:])\n",
    "    else:\n",
    "        return stone * 2024\n",
    "    "
   ]
  },
  {
   "cell_type": "code",
   "execution_count": 35,
   "metadata": {},
   "outputs": [],
   "source": [
    "def run_once(stones: list[int]) -> list[int]:\n",
    "    new_stones = []\n",
    "    for stone in stones:\n",
    "        if isinstance(rule(stone), int):\n",
    "            new_stones.append(rule(stone))\n",
    "        else:\n",
    "            new_stones.extend(rule(stone))\n",
    "    return new_stones\n",
    "\n",
    "def run(stone_list: list[int], n: int) -> list[int]:\n",
    "    for i in range(n):\n",
    "        stone_list = run_once(stone_list)\n",
    "    return stone_list"
   ]
  },
  {
   "cell_type": "code",
   "execution_count": 36,
   "metadata": {},
   "outputs": [
    {
     "name": "stdout",
     "output_type": "stream",
     "text": [
      "---\n",
      "125681\n"
     ]
    }
   ],
   "source": [
    "output = run(stones, 25)\n",
    "print('---')\n",
    "print(len(output))"
   ]
  },
  {
   "cell_type": "markdown",
   "metadata": {},
   "source": [
    "# Part 2\n"
   ]
  },
  {
   "cell_type": "code",
   "execution_count": 83,
   "metadata": {},
   "outputs": [
    {
     "name": "stdout",
     "output_type": "stream",
     "text": [
      "[8069, 87014, 98, 809367, 525, 0, 9494914, 5]\n",
      "218817038947400\n",
      "--- 0.10 seconds ---\n"
     ]
    }
   ],
   "source": [
    "from functools import lru_cache\n",
    "import time\n",
    "import math\n",
    "\n",
    "@lru_cache(maxsize=None)\n",
    "def count_digits(num):\n",
    "    return int(math.log10(abs(num))) + 1\n",
    "\n",
    "@lru_cache(maxsize=None)\n",
    "def split_integer(num, num_digits):\n",
    "    half = num_digits // 2\n",
    "    divisor = 10 ** half\n",
    "    left_half = num // divisor\n",
    "    right_half = num % divisor\n",
    "    \n",
    "    return left_half, right_half\n",
    "\n",
    "@lru_cache(maxsize=None)\n",
    "def run_rule(stone: int) -> int | tuple[int, int]:\n",
    "    if stone == 0:\n",
    "        return 1\n",
    "    elif stone < 10 or (stone >= 100 and stone < 1000):\n",
    "        return stone * 2024    \n",
    "    \n",
    "    count = count_digits(stone)\n",
    "    if count % 2 == 0:\n",
    "        answer = split_integer(stone, count)\n",
    "        return answer\n",
    "    else:\n",
    "        answer = stone * 2024\n",
    "        return answer\n",
    "\n",
    "# run_script(0, 1, 25) == run_script(1, 2, 25)\n",
    "\n",
    "@lru_cache(maxsize=None)\n",
    "def run_script_x(stone: int, steps: int) -> int:\n",
    "    if steps == 0:\n",
    "        return 1\n",
    "\n",
    "\n",
    "    for i in range(steps):\n",
    "        stones = run_rule(stone)\n",
    "        if isinstance(stones, int):\n",
    "            return run_script_x(stones, steps - 1)\n",
    "        else:\n",
    "            answer1 = run_script_x(stones[0], steps - 1)\n",
    "            answer2 = run_script_x(stones[1], steps - 1)\n",
    "            return answer1 + answer2\n",
    "\n",
    "start_time = time.time()\n",
    "# stones = [125, 17]\n",
    "# stones = [0, 1, 10, 99, 999]\n",
    "print(stones)\n",
    "sum = 0\n",
    "blink = 75\n",
    "for stone in stones:\n",
    "    sum += run_script_x(stone, blink)\n",
    "print(sum)\n",
    "print(f\"--- {(time.time() - start_time):.2f} seconds ---\")\n",
    "    \n",
    "\n"
   ]
  },
  {
   "cell_type": "code",
   "execution_count": 52,
   "metadata": {},
   "outputs": [
    {
     "data": {
      "text/plain": [
       "[0, 1]"
      ]
     },
     "execution_count": 52,
     "metadata": {},
     "output_type": "execute_result"
    }
   ],
   "source": [
    "list(range(2))"
   ]
  },
  {
   "cell_type": "code",
   "execution_count": 47,
   "metadata": {},
   "outputs": [
    {
     "ename": "KeyboardInterrupt",
     "evalue": "",
     "output_type": "error",
     "traceback": [
      "\u001b[0;31m---------------------------------------------------------------------------\u001b[0m",
      "\u001b[0;31mKeyboardInterrupt\u001b[0m                         Traceback (most recent call last)",
      "Cell \u001b[0;32mIn [47], line 33\u001b[0m\n\u001b[1;32m     27\u001b[0m     \u001b[38;5;28;01mreturn\u001b[39;00m \u001b[38;5;28msum\u001b[39m(result_stack)\n\u001b[1;32m     29\u001b[0m \u001b[38;5;66;03m# Example usage:\u001b[39;00m\n\u001b[0;32m---> 33\u001b[0m count \u001b[38;5;241m=\u001b[39m \u001b[43mrun_script\u001b[49m\u001b[43m(\u001b[49m\u001b[38;5;241;43m125\u001b[39;49m\u001b[43m,\u001b[49m\u001b[43m \u001b[49m\u001b[43mstop\u001b[49m\u001b[38;5;241;43m=\u001b[39;49m\u001b[38;5;241;43m45\u001b[39;49m\u001b[43m)\u001b[49m\n\u001b[1;32m     34\u001b[0m \u001b[38;5;28mprint\u001b[39m(count)\n",
      "Cell \u001b[0;32mIn [47], line 19\u001b[0m, in \u001b[0;36mrun_script\u001b[0;34m(stone, stop)\u001b[0m\n\u001b[1;32m     16\u001b[0m answer \u001b[38;5;241m=\u001b[39m run_rule(current_stone)\n\u001b[1;32m     18\u001b[0m \u001b[38;5;66;03m# If the answer is an integer, it means we're at a base case\u001b[39;00m\n\u001b[0;32m---> 19\u001b[0m \u001b[38;5;28;01mif\u001b[39;00m \u001b[38;5;28;43misinstance\u001b[39;49m\u001b[43m(\u001b[49m\u001b[43manswer\u001b[49m\u001b[43m,\u001b[49m\u001b[43m \u001b[49m\u001b[38;5;28;43mint\u001b[39;49m\u001b[43m)\u001b[49m:\n\u001b[1;32m     20\u001b[0m     stack\u001b[38;5;241m.\u001b[39mappend((answer, current_level \u001b[38;5;241m+\u001b[39m \u001b[38;5;241m1\u001b[39m))\n\u001b[1;32m     21\u001b[0m \u001b[38;5;28;01melse\u001b[39;00m:\n\u001b[1;32m     22\u001b[0m     \u001b[38;5;66;03m# If it's a tuple, push both elements to stack for next level\u001b[39;00m\n",
      "\u001b[0;31mKeyboardInterrupt\u001b[0m: "
     ]
    }
   ],
   "source": [
    "def run_script(stone: int, stop: int = 1) -> int:\n",
    "    # Stack will hold tuples of (stone, level)\n",
    "    stack = [(stone, 0)]\n",
    "    result_stack = []\n",
    "\n",
    "    while stack:\n",
    "        current_stone, current_level = stack.pop()\n",
    "\n",
    "        # If we reach the stop level, process the result\n",
    "        if current_level == stop - 1:\n",
    "            answer = run_rule(current_stone)\n",
    "            result_stack.append(1 if isinstance(answer, int) else 2)\n",
    "            continue  # Skip further processing for this level\n",
    "\n",
    "        # Call run_rule for the current stone\n",
    "        answer = run_rule(current_stone)\n",
    "\n",
    "        # If the answer is an integer, it means we're at a base case\n",
    "        if isinstance(answer, int):\n",
    "            stack.append((answer, current_level + 1))\n",
    "        else:\n",
    "            # If it's a tuple, push both elements to stack for next level\n",
    "            stack.append((answer[1], current_level + 1))\n",
    "            stack.append((answer[0], current_level + 1))\n",
    "\n",
    "    # After finishing the loop, combine the results from result_stack\n",
    "    return sum(result_stack)\n",
    "\n",
    "# Example usage:\n",
    "\n",
    "\n",
    "\n",
    "count = run_script(125, stop=45)\n",
    "print(count)"
   ]
  }
 ],
 "metadata": {
  "kernelspec": {
   "display_name": "kul",
   "language": "python",
   "name": "python3"
  },
  "language_info": {
   "codemirror_mode": {
    "name": "ipython",
    "version": 3
   },
   "file_extension": ".py",
   "mimetype": "text/x-python",
   "name": "python",
   "nbconvert_exporter": "python",
   "pygments_lexer": "ipython3",
   "version": "3.10.8"
  }
 },
 "nbformat": 4,
 "nbformat_minor": 2
}
