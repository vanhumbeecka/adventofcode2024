{
 "cells": [
  {
   "cell_type": "code",
   "execution_count": 160,
   "metadata": {},
   "outputs": [],
   "source": [
    "\n",
    "with open('input.txt', 'r') as file:\n",
    "    data = file.read()\n",
    "\n",
    "grid, directions = data.split('\\n\\n')\n",
    "\n",
    "grid = grid.split('\\n')\n",
    "directions = directions.split('\\n')\n",
    "directions = ''.join(directions)\n",
    "map = dict()\n",
    "\n",
    "def reset_map():\n",
    "    global map\n",
    "    map = dict()\n",
    "\n",
    "    for y, row in enumerate(grid):\n",
    "        for x, value in enumerate(row):\n",
    "            map[(x, y)] = value"
   ]
  },
  {
   "cell_type": "code",
   "execution_count": 12,
   "metadata": {},
   "outputs": [],
   "source": [
    "def get_coord(x, y, direction, step=1) -> tuple:\n",
    "    if direction == '^':\n",
    "        return (x, y - step)\n",
    "    if direction == 'v':\n",
    "        return (x, y + step)\n",
    "    if direction == '<':\n",
    "        return (x - step, y)\n",
    "    if direction == '>':\n",
    "        return (x + step, y)\n",
    "    "
   ]
  },
  {
   "cell_type": "code",
   "execution_count": 75,
   "metadata": {},
   "outputs": [],
   "source": [
    "def step(x, y, direction, map) -> tuple[int, int]:\n",
    "    x_new, y_new = get_coord(x, y, direction)\n",
    "    v = map[(x_new, y_new)]\n",
    "    if v == '#':\n",
    "        return x, y\n",
    "    elif v == '.':\n",
    "        map[(x, y)] = '.'\n",
    "        map[(x_new, y_new)] = '@'\n",
    "        return x_new, y_new\n",
    "    elif v == 'O':\n",
    "        i = 1\n",
    "        while map[get_coord(x, y, direction, i)] == 'O':\n",
    "            i += 1\n",
    "        if map[get_coord(x, y, direction, i)] == '.':\n",
    "            map[(x, y)] = '.'\n",
    "            map[(x_new, y_new)] = '@'\n",
    "            map[get_coord(x, y, direction, i)] = 'O'\n",
    "            return x_new, y_new\n",
    "        elif map[get_coord(x, y, direction, i)] == '#':\n",
    "            return x, y\n",
    "    else:\n",
    "        raise ValueError(f'Invalid character: ' + v)\n"
   ]
  },
  {
   "cell_type": "code",
   "execution_count": 76,
   "metadata": {},
   "outputs": [],
   "source": [
    "def print_map(map) -> None:\n",
    "    x_max = max([x for x, y in map.keys()])\n",
    "    y_max = max([y for x, y in map.keys()])\n",
    "    for y in range(y_max + 1):\n",
    "        row = ''\n",
    "        for x in range(x_max + 1):\n",
    "            row += map[(x, y)]\n",
    "        print(row)\n",
    "\n",
    "def find_start(map) -> tuple:\n",
    "    for k, v in map.items():\n",
    "        if v == '@':\n",
    "            return k\n",
    "        \n",
    "def calc_sum_gps(map) -> int:\n",
    "    gps_sum = 0\n",
    "    for (x, y), v in map.items():\n",
    "        if v == 'O':\n",
    "            gps_sum += 100 * y + x\n",
    "    return gps_sum"
   ]
  },
  {
   "cell_type": "code",
   "execution_count": 84,
   "metadata": {},
   "outputs": [
    {
     "data": {
      "text/plain": [
       "1421727"
      ]
     },
     "execution_count": 84,
     "metadata": {},
     "output_type": "execute_result"
    }
   ],
   "source": [
    "reset_map()\n",
    "x, y = find_start(map)   \n",
    "\n",
    "for char in directions:\n",
    "    x, y = step(x, y, char, map)\n",
    "\n",
    "calc_sum_gps(map)"
   ]
  },
  {
   "cell_type": "markdown",
   "metadata": {},
   "source": [
    "# Part 2"
   ]
  },
  {
   "cell_type": "code",
   "execution_count": 111,
   "metadata": {},
   "outputs": [
    {
     "name": "stdout",
     "output_type": "stream",
     "text": [
      "##############\n",
      "##......##..##\n",
      "##..........##\n",
      "##....[][]@.##\n",
      "##....[]....##\n",
      "##..........##\n",
      "##############\n"
     ]
    }
   ],
   "source": [
    "# To get the wider warehouse's map, start with your original map and, for each tile, make the following changes:\n",
    "\n",
    "#     If the tile is #, the new map contains ## instead.\n",
    "#     If the tile is O, the new map contains [] instead.\n",
    "#     If the tile is ., the new map contains .. instead.\n",
    "#     If the tile is @, the new map contains @. instead.\n",
    "\n",
    "# So it will only make it wider, not taller.\n",
    "\n",
    "def extend_map(map):\n",
    "    new_map = dict()\n",
    "    for (x, y), v in map.items():\n",
    "        if v == '#':\n",
    "            new_map[(x * 2, y)] = '#'\n",
    "            new_map[(x * 2 + 1, y)] = '#'\n",
    "        elif v == 'O':\n",
    "            new_map[(x * 2, y)] = '['\n",
    "            new_map[(x * 2 + 1, y)] = ']'\n",
    "        elif v == '.':\n",
    "            new_map[(x * 2, y)] = '.'\n",
    "            new_map[(x * 2 + 1, y)] = '.'\n",
    "        elif v == '@':\n",
    "            new_map[(x * 2, y)] = '@'\n",
    "            new_map[(x * 2 + 1, y)] = '.'\n",
    "    return new_map\n",
    "    \n",
    "reset_map()\n",
    "new_map = extend_map(map)\n",
    "print_map(new_map)\n"
   ]
  },
  {
   "cell_type": "code",
   "execution_count": 124,
   "metadata": {},
   "outputs": [
    {
     "name": "stdout",
     "output_type": "stream",
     "text": [
      "##############\n",
      "##......##..##\n",
      "##..........##\n",
      "##....[][]@.##\n",
      "##....[]....##\n",
      "##..........##\n",
      "##############\n",
      "[(7, 4), (6, 3), (6, 4), (7, 3)]\n"
     ]
    }
   ],
   "source": [
    "reset_map()\n",
    "new_map = extend_map(map)\n",
    "print_map(new_map)\n",
    "\n",
    "def get_all_box_coords(x_orig, y_orig, direction, map, box_coords: list) -> list[tuple[int, int]]:\n",
    "    x, y = get_coord(x_orig, y_orig, direction)\n",
    "    if map[(x, y)] == '[':\n",
    "        return list(set([\n",
    "            *get_all_box_coords(x, y, direction, map, box_coords + [(x, y)]),\n",
    "            *get_all_box_coords(x + 1, y, direction, map, box_coords + [(x + 1, y)])\n",
    "        ]))\n",
    "    elif map[(x, y)] == ']':\n",
    "        return list(set([\n",
    "            *get_all_box_coords(x - 1, y, direction, map, box_coords + [(x - 1, y)]),\n",
    "            *get_all_box_coords(x, y, direction, map, box_coords + [(x, y)])\n",
    "        ]))\n",
    "    else:\n",
    "        return box_coords\n",
    "    \n",
    "print(get_all_box_coords(6, 5, '^', new_map, []))"
   ]
  },
  {
   "cell_type": "code",
   "execution_count": 139,
   "metadata": {},
   "outputs": [],
   "source": [
    "import copy\n",
    "\n",
    "def any_box_vertical_blocked(box_coords: list[tuple[int, int]], map, direction) -> bool:\n",
    "    for x, y in box_coords:\n",
    "        x_new, y_new = get_coord(x, y, direction)\n",
    "        if map[(x_new, y_new)] == '#':\n",
    "            return True\n",
    "    return False\n",
    "\n",
    "def move_box_coords(box_coords, direction, map) -> None:\n",
    "    map_copy = copy.deepcopy(map)\n",
    "    for x, y in box_coords:\n",
    "        map[(x, y)] = '.'\n",
    "\n",
    "    for x, y in box_coords:\n",
    "        x_new, y_new = get_coord(x, y, direction)\n",
    "        if map_copy[(x, y)] == '[':\n",
    "            map[(x_new, y_new)] = '['\n",
    "        if map_copy[(x, y)] == ']':\n",
    "            map[(x_new, y_new)] = ']'\n",
    "\n"
   ]
  },
  {
   "cell_type": "code",
   "execution_count": 153,
   "metadata": {},
   "outputs": [
    {
     "name": "stdout",
     "output_type": "stream",
     "text": [
      "##############\n",
      "##...@[]##..##\n",
      "##..........##\n",
      "##[]........##\n",
      "##..........##\n",
      "##....[]....##\n",
      "##############\n"
     ]
    }
   ],
   "source": [
    "def step_v2(x, y, direction, map) -> tuple[int, int]:\n",
    "    x_new, y_new = get_coord(x, y, direction)\n",
    "    v = map[(x_new, y_new)]\n",
    "    if v == '#':\n",
    "        return x, y\n",
    "    \n",
    "    elif v == '.':\n",
    "        map[(x, y)] = '.'\n",
    "        map[(x_new, y_new)] = '@'\n",
    "        return x_new, y_new\n",
    "    \n",
    "    elif (v == '[' and direction == '>') or (v == ']' and direction == '<'):\n",
    "        i = 1\n",
    "        while map[get_coord(x, y, direction, i)] in ['[', ']']:\n",
    "            i += 1\n",
    "        if map[get_coord(x, y, direction, i)] == '.':\n",
    "            for j in range(1, i):\n",
    "                if map[get_coord(x, y, direction, j)] == '[':\n",
    "                    map[get_coord(x, y, direction, j)] = ']'\n",
    "                elif map[get_coord(x, y, direction, j)] == ']':\n",
    "                    map[get_coord(x, y, direction, j)] = '['\n",
    "\n",
    "            if direction == '<':\n",
    "                map[(get_coord(x, y, direction, i))] = '['\n",
    "            elif direction == '>':\n",
    "                map[(get_coord(x, y, direction, i))] = ']'\n",
    "            map[(x, y)] = '.'\n",
    "            map[(x_new, y_new)] = '@'\n",
    "            return x_new, y_new\n",
    "        elif map[get_coord(x, y, direction, i)] == '#':\n",
    "            return x, y\n",
    "        \n",
    "    elif direction in ['^', 'v'] and v in ['[', ']']:\n",
    "        box_coords: list[tuple[int, int]] = get_all_box_coords(x, y, direction, map, [])\n",
    "        if any_box_vertical_blocked(box_coords, map, direction):\n",
    "            return x, y\n",
    "        else:\n",
    "            move_box_coords(box_coords, direction, map)\n",
    "\n",
    "            map[(x, y)] = '.'\n",
    "            map[(x_new, y_new)] = '@'\n",
    "            return x_new, y_new\n",
    "        \n",
    "    else:\n",
    "        raise ValueError(f'Invalid character: ' + v)\n",
    "\n",
    "\n",
    "reset_map()\n",
    "new_map = extend_map(map)\n",
    "x, y = find_start(new_map)\n",
    "x, y = step_v2(x, y, '<', new_map)\n",
    "x, y = step_v2(x, y, '<', new_map)\n",
    "x, y = step_v2(x, y, '<', new_map)\n",
    "x, y = step_v2(x, y, '<', new_map)\n",
    "x, y = step_v2(x, y, '<', new_map)\n",
    "x, y = step_v2(x, y, 'v', new_map)\n",
    "x, y = step_v2(x, y, '<', new_map)\n",
    "x, y = step_v2(x, y, '^', new_map)\n",
    "x, y = step_v2(x, y, '^', new_map)\n",
    "x, y = step_v2(x, y, '^', new_map)\n",
    "x, y = step_v2(x, y, '^', new_map)\n",
    "x, y = step_v2(x, y, '<', new_map)\n",
    "x, y = step_v2(x, y, '<', new_map)\n",
    "x, y = step_v2(x, y, '^', new_map)\n",
    "x, y = step_v2(x, y, '^', new_map)\n",
    "x, y = step_v2(x, y, '>', new_map)\n",
    "x, y = step_v2(x, y, '>', new_map)\n",
    "x, y = step_v2(x, y, '>', new_map)\n",
    "print_map(new_map)"
   ]
  },
  {
   "cell_type": "code",
   "execution_count": 156,
   "metadata": {},
   "outputs": [],
   "source": [
    "def calc_sum_gps_v2(map) -> int:\n",
    "    gps_sum = 0\n",
    "    for (x, y), v in map.items():\n",
    "        if v == '[':\n",
    "            gps_sum += 100 * y + x\n",
    "    return gps_sum"
   ]
  },
  {
   "cell_type": "code",
   "execution_count": 162,
   "metadata": {},
   "outputs": [
    {
     "name": "stderr",
     "output_type": "stream",
     "text": [
      "100%|██████████| 20000/20000 [00:36<00:00, 553.22it/s] "
     ]
    },
    {
     "name": "stdout",
     "output_type": "stream",
     "text": [
      "####################################################################################################\n",
      "##......[][]......##......[][]..[]..[]..##[][]..........[][]..[][][][][]##[]..........[]..[]..[][]##\n",
      "##..##..[][]....##........[]........##........................[]...........[].[][]...[].##....[]..##\n",
      "######.[].[]..@...............................................[]####........##[]......[][][]....[]##\n",
      "##[][][]..[]......[]..[].................[]................................[][].......[][]####....##\n",
      "##[][][].....................[].........######[]..............................[]........##..[][]..##\n",
      "##..##[][]......##........................[][][]..............................[][]##...[]..[][][].##\n",
      "##..[]##..........[]..........................####[]............[]....##..[][][]........[]....[]..##\n",
      "##...........[]...[]..........[]##...............[][][][]..............[].##[].[].......[]...[]...##\n",
      "##..........[][]........[]......##.........[][]...##..##...[][]...........[].[].........[]........##\n",
      "##..................[][]........[]........[]......[][]..[][]##[].....................[][].......[]##\n",
      "##....##[][][][][]...............[]...........[]....[]...[][]..[]...............[]##....[][]....[]##\n",
      "##........[][]........##.[].[]..............##..[]####..####[][]##[]..................[]......[]..##\n",
      "##......[]####......##..[]..##....[]..............[]....##[]..[]..##....[]........[]......[]......##\n",
      "##..................##....[]..##........[]......##......[]....[]................[]##.....[].[]....##\n",
      "##..........[].[].##[]....[][]##.......[][].......[][]##[][]##[].[].##......................[]....##\n",
      "##....##....[][][]......[][]...[][]....[].[]......[]..##[][][]...[].##........................[]####\n",
      "##..[]....[]..[][]................[]....[]............##.[].[]...[][].............[].[].##........##\n",
      "##..[]........[][]........[]..........##[]......##[]..[]..................##....................####\n",
      "##[][]..[]....[][]........[].....[].[]..##.......[][].....[]....##........[][][]....[]..........[]##\n",
      "##[][]##..[][]..##....[]....##..[]..[]..[]##[].....[][].......##....##..##.[]...[]..........[]....##\n",
      "##[][]....[][]##[].............[].[]####.....[].............##[]....[][]................[].[].....##\n",
      "##[][]..[][]##[][]..[]..[]............##..##[][]..[].......[].......[]##[][]...........[][][].....##\n",
      "##..##............[]......##................[][]...........[].......[][][][]##....[]..##..##..##..##\n",
      "##........................[]....[].......[].[][][]....[]..............[][]##[]............[].[]...##\n",
      "##......##......[][][]..##[][][]......##....[][]......[][]..........[][]####[].......[].....[][]..##\n",
      "##........##......[]..[][][][].[][][]...........[]..[][]##................[]............[]......[]##\n",
      "##........[]....[]##[]......[][]....##....##....[][]####[]..............##......................[]##\n",
      "##....[][][]....##....##....[]......[][].[]....[]...######..............[]....##..............##..##\n",
      "####......[]......######....[]........[][]........[][][]..........##..............[]..........[][]##\n",
      "##....[]......[][][]........[].[].[].[]...........##........[]............[]......[]##....##..[][]##\n",
      "##..[][]..[][]##[][]..........##[]##..[]...........[].......[].[].......##..##....[]..[][][][][]..##\n",
      "##[]..[]......##.........................................[].[][]##........[][][][][]##[][]..[]....##\n",
      "##...................[]...[]..................[]............[][].[][]........[][][][][].....[]##..##\n",
      "##[]####[]..[]..[].......[]......[]......................[][][][][][].........[][][][][]##..[]..[]##\n",
      "##..[][]....[][][][][]...........................[].....[][][]..##.[][].....[]####[].[].......[][]##\n",
      "##..[]##......[]..[]..[]......[][]......[]..............[][]##[][].[].......##[][][]..[]......[]..##\n",
      "##[]....##........[]............[]......##..##..........[]##[]....[].............[].##[]....####..##\n",
      "##..[]..[]....[]##[][]........[]...............[].[]....[]##..[]..[]..................[]##......####\n",
      "##....##......[]..[]........[]..[]...............[].....##....[].[]....[].........##.[].........####\n",
      "##......[]........[][]..[].[][].................[]......[]......##......[][]##...[][].[].......[].##\n",
      "####..............[]..[]##[][][]....[]...............................[]...[]..##................[]##\n",
      "##......##[]..[]..##[]...[]...[]....[]......................[].......[]............[]...##..##....##\n",
      "##..##[]....##..[]......##[]......[].[].......[]....[]........[]....[][]................##[][]....##\n",
      "##....[][][]....[][]..........[][]..[]............##[]...........[][].[].[][]............[][][]...##\n",
      "######..[][]........[]..........##..............##..[]....[]..........[][]..##[]..........####....##\n",
      "##..[]##[]..........[][]##............##......[]....##..[]........[]..######......[]....##........##\n",
      "##....[][]..[]##..............##..[]..[][][][]......[]..##[][][]..................[][]......[]....##\n",
      "##........[]....[]...........[].......[][]......####[]....##......[]........##..[]....[]..........##\n",
      "####################################################################################################\n"
     ]
    },
    {
     "name": "stderr",
     "output_type": "stream",
     "text": [
      "\n"
     ]
    },
    {
     "data": {
      "text/plain": [
       "1463160"
      ]
     },
     "execution_count": 162,
     "metadata": {},
     "output_type": "execute_result"
    }
   ],
   "source": [
    "from tqdm import tqdm\n",
    "\n",
    "reset_map()\n",
    "new_map = extend_map(map)\n",
    "x, y = find_start(new_map)\n",
    "\n",
    "for char in tqdm(directions, total=len(directions)):\n",
    "    x, y = step_v2(x, y, char, new_map)\n",
    "\n",
    "print_map(new_map)\n",
    "calc_sum_gps_v2(new_map)\n"
   ]
  }
 ],
 "metadata": {
  "kernelspec": {
   "display_name": "kul",
   "language": "python",
   "name": "python3"
  },
  "language_info": {
   "codemirror_mode": {
    "name": "ipython",
    "version": 3
   },
   "file_extension": ".py",
   "mimetype": "text/x-python",
   "name": "python",
   "nbconvert_exporter": "python",
   "pygments_lexer": "ipython3",
   "version": "3.10.8"
  }
 },
 "nbformat": 4,
 "nbformat_minor": 2
}
