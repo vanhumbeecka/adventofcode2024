{
 "cells": [
  {
   "cell_type": "code",
   "execution_count": null,
   "metadata": {},
   "outputs": [],
   "source": [
    "import numpy as np"
   ]
  },
  {
   "cell_type": "code",
   "execution_count": 22,
   "metadata": {},
   "outputs": [],
   "source": [
    "def read_file(filename = 'example.txt') -> list[list[int]]:\n",
    "    with open(filename) as f:\n",
    "        reports = [report.strip() for report in f.readlines()]\n",
    "        new_reports = []\n",
    "        for report in reports:\n",
    "            new_reports.append([int(x) for x in report.split(' ')])\n",
    "        # reports = [[int(x) for x in report] for report in reports]\n",
    "        \n",
    "        return new_reports\n",
    "\n",
    "reports = read_file(\"input.txt\")\n"
   ]
  },
  {
   "cell_type": "code",
   "execution_count": 23,
   "metadata": {},
   "outputs": [],
   "source": [
    "def is_descending(report: list[int]) -> bool:\n",
    "    return all(report[i] >= report[i+1] and 0 < abs(report[i] - report[i+1]) <= 3 for i in range(len(report)-1))\n",
    "\n",
    "def is_ascending(report: list[int]) -> bool:\n",
    "    return all(report[i] <= report[i+1] and 0 < abs(report[i] - report[i+1]) <= 3 for i in range(len(report)-1))\n",
    "\n",
    "def is_safe(report: list[int]) -> bool:\n",
    "    return is_descending(report) or is_ascending(report)\n",
    "\n",
    "def is_safe_when_removed(report: list[int], index: int) -> bool:\n",
    "    if index == 0:\n",
    "        return is_safe(report[1:])\n",
    "    elif index == len(report)-1:\n",
    "        return is_safe(report[:-1])\n",
    "    else:\n",
    "        return is_safe(report[:index] + report[index+1:])"
   ]
  },
  {
   "cell_type": "code",
   "execution_count": 24,
   "metadata": {},
   "outputs": [
    {
     "name": "stdout",
     "output_type": "stream",
     "text": [
      "604\n"
     ]
    }
   ],
   "source": [
    "count = 0\n",
    "for report in reports:\n",
    "    if is_safe(report):\n",
    "        count += 1\n",
    "    else:\n",
    "        for i in range(len(report)):\n",
    "            if is_safe_when_removed(report, i):\n",
    "                count += 1\n",
    "                break\n",
    "\n",
    "print(count)"
   ]
  },
  {
   "cell_type": "code",
   "execution_count": null,
   "metadata": {},
   "outputs": [],
   "source": []
  }
 ],
 "metadata": {
  "kernelspec": {
   "display_name": "kul",
   "language": "python",
   "name": "python3"
  },
  "language_info": {
   "codemirror_mode": {
    "name": "ipython",
    "version": 3
   },
   "file_extension": ".py",
   "mimetype": "text/x-python",
   "name": "python",
   "nbconvert_exporter": "python",
   "pygments_lexer": "ipython3",
   "version": "3.10.8"
  }
 },
 "nbformat": 4,
 "nbformat_minor": 2
}
