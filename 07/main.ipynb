{
 "cells": [
  {
   "cell_type": "code",
   "execution_count": 1,
   "metadata": {},
   "outputs": [],
   "source": [
    "import numpy as np"
   ]
  },
  {
   "cell_type": "code",
   "execution_count": 30,
   "metadata": {},
   "outputs": [],
   "source": [
    "with open(\"input.txt\") as f:\n",
    "    lines = [x.strip() for x in f.readlines()]\n",
    "\n",
    "data = {}\n",
    "for line in lines:\n",
    "    s = line.split(\": \")\n",
    "    data[int(s[0])] = list(map(int, s[1].split()))\n"
   ]
  },
  {
   "cell_type": "code",
   "execution_count": 24,
   "metadata": {},
   "outputs": [
    {
     "name": "stdout",
     "output_type": "stream",
     "text": [
      "3749\n"
     ]
    }
   ],
   "source": [
    "def calculate_all_results(left: int, right: list[int]) -> list[int]:\n",
    "    if len(right) == 1:\n",
    "        return [left + right[0], left * right[0]]\n",
    "    \n",
    "    return [\n",
    "        *calculate_all_results(left + right[0], right[1:]),\n",
    "        *calculate_all_results(left * right[0], right[1:])\n",
    "    ]\n",
    "\n",
    "def is_valid(eq_key: int, eq_values: list[int]) -> int:\n",
    "    if eq_key in calculate_all_results(eq_values[0], eq_values[1:]):\n",
    "        return eq_key\n",
    "    else:\n",
    "        return 0\n",
    "\n",
    "total = 0\n",
    "for k, v in data.items():\n",
    "    total += is_valid(k, v)\n",
    "print(total)"
   ]
  },
  {
   "cell_type": "code",
   "execution_count": 31,
   "metadata": {},
   "outputs": [
    {
     "name": "stdout",
     "output_type": "stream",
     "text": [
      "92148721834692\n"
     ]
    }
   ],
   "source": [
    "def concat(left: int, right: int) -> int:\n",
    "    return int(str(left)+str(right))\n",
    "\n",
    "def is_valid_v2(eq_key: int, eq_values: list[int]) -> int:\n",
    "    if eq_key in calculate_all_results_v2(eq_values[0], eq_values[1:]):\n",
    "        return eq_key\n",
    "    else:\n",
    "        return 0\n",
    "\n",
    "def calculate_all_results_v2(left: int, right: list[int]) -> list[int]:\n",
    "    if len(right) == 1:\n",
    "        return [left + right[0], left * right[0], concat(left, right[0])]\n",
    "    \n",
    "    return [\n",
    "        *calculate_all_results_v2(left + right[0], right[1:]),\n",
    "        *calculate_all_results_v2(left * right[0], right[1:]),\n",
    "        *calculate_all_results_v2(concat(left, right[0]), right[1:])\n",
    "    ]\n",
    "\n",
    "total = 0\n",
    "for k, v in data.items():\n",
    "    total += is_valid_v2(k, v)\n",
    "print(total)"
   ]
  },
  {
   "cell_type": "code",
   "execution_count": 28,
   "metadata": {},
   "outputs": [
    {
     "data": {
      "text/plain": [
       "12345"
      ]
     },
     "execution_count": 28,
     "metadata": {},
     "output_type": "execute_result"
    }
   ],
   "source": [
    "concat(12, 345)"
   ]
  }
 ],
 "metadata": {
  "kernelspec": {
   "display_name": "kul",
   "language": "python",
   "name": "python3"
  },
  "language_info": {
   "codemirror_mode": {
    "name": "ipython",
    "version": 3
   },
   "file_extension": ".py",
   "mimetype": "text/x-python",
   "name": "python",
   "nbconvert_exporter": "python",
   "pygments_lexer": "ipython3",
   "version": "3.10.8"
  }
 },
 "nbformat": 4,
 "nbformat_minor": 2
}
